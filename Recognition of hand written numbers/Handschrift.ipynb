{
 "cells": [
  {
   "cell_type": "markdown",
   "metadata": {},
   "source": [
    "# Aufgabe: Handgeschriebene Zahlen erkennen mit Tensorflow / Keras\n",
    "----------------------------------------------------------------------------------------------------------\n",
    "\n",
    "\n",
    "\n",
    "## 1 . Importieren der Packages, die für diese Aufgabe gebraucht werden\n",
    "\n",
    "\n",
    "### 1.1 Aufgabe: Importieren Sie alle abgebildeten Packages"
   ]
  },
  {
   "cell_type": "code",
   "execution_count": 48,
   "metadata": {},
   "outputs": [],
   "source": [
    "# Import-Statements für die Zahlenerkennung \n",
    "import tensorflow as tf\n",
    "from tensorflow import keras\n",
    "import numpy as np \n",
    "import matplotlib.pyplot as plt"
   ]
  },
  {
   "cell_type": "markdown",
   "metadata": {},
   "source": [
    "## 2. Herunterladen des MNIST Datensatzes\n",
    "\n",
    "### 2.1 Aufgabe: Lade Sie den MNIST Datensatz herunter und spalte Sie den Datensatz in Trainingsbilder/-labels und Testbilder/-labels"
   ]
  },
  {
   "cell_type": "code",
   "execution_count": 2,
   "metadata": {},
   "outputs": [],
   "source": [
    "# Herunterladen des Datensatz,der aus handgeschriebenen Zahlen besteht\n",
    "mnist = keras.datasets.mnist\n",
    "# Nach erfolgreichem Download werden die Daten\n",
    "# gleich in die beiden Gruppe Train und Test aufgeteilt mit den entsprechendenen Labels\n",
    "(train_images, train_labels), (test_images, test_labels) = mnist.load_data()"
   ]
  },
  {
   "cell_type": "markdown",
   "metadata": {},
   "source": [
    "## 3. Anzeigen einer Zahl aus dem Datensatz\n",
    "\n",
    "### 3.1 Aufgabe: Zeige Sie das erste Bild an, welches sich in deinen Trainingsbildern befindet\n",
    "\n",
    "### 3.2 Aufgabe: Überprüfe das Bild mit dem ersten Trainingslabel. Stimmen die Zahlen überein ?"
   ]
  },
  {
   "cell_type": "code",
   "execution_count": 47,
   "metadata": {},
   "outputs": [
    {
     "data": {
      "image/png": "[encoded data removed]",
      "text/plain": [
       "<Figure size 432x288 with 1 Axes>"
      ]
     },
     "metadata": {
      "needs_background": "light"
     },
     "output_type": "display_data"
    },
    {
     "name": "stdout",
     "output_type": "stream",
     "text": [
      "Die Zahl, die auf dem Bild zu sehen ist, ist eine :  5\n"
     ]
    }
   ],
   "source": [
    "# Die Zahl wird mithilfe von Matplotlib angezeigt\n",
    "plt.figure()\n",
    "plt.imshow(train_images[0])\n",
    "plt.show()\n",
    "\n",
    "# Print Statement zeigt den Labelwert an \n",
    "print(\"Die Zahl, die auf dem Bild zu sehen ist, ist eine : \" , train_labels[0])\n",
    "\n",
    "# Stimmen die beiden Zahlen überein ? "
   ]
  },
  {
   "cell_type": "markdown",
   "metadata": {},
   "source": [
    "## 4. Erstellung von Modellen \n",
    "\n",
    "![alt text](layer.jpg)\n",
    "\n",
    "### 4.1 Aufgabe: Aus welchen Komponenten besteht ein Modell ? \n",
    "-------------------------------------\n",
    "__Ein Model besteht aus verschiedenen Layern, die miteinander auf unterschiedliche Art verknüpft werden können.__\n",
    "\n",
    "### 4.2 Definiere die folgenden Core-Layers von Keras: \n",
    "\n",
    "   __1.__ Flatten \n",
    "   __2.__ Dense \n",
    "   __3.__ Dropout \n",
    "   __4. *(Optional)*__ Conv1D \n",
    "\n",
    "Gehe dafür auf die Dokumentation von [Keras](https://keras.io/layers/core/)\n",
    "\n",
    "---------------------------------------------------\n",
    "1. __Flatten__: Der Tensor, welcher reingegeben wird, wird transformiert zu einem \"langen\" eindimensionalen Vektor. \n",
    "\n",
    "      __Beispiel:__ Tensor mit den Dimensionen 3x16 wird zu einem Tensor mit den Dimensionen 48x1\n",
    "      \n",
    "\n",
    "2. __Dense__: Der Tensor mit all seinen Input Knoten wird multipliziert mit den Gewichten und anschließend mit allen Output Knoten verknüpft. Die Funktion laut Keras Dokumentation sieht folgendermaßen aus:\n",
    "\n",
    "    __output = activation(dot(input, kernel) + bias)__ \n",
    "    \n",
    "    dot = Matrixmultiplikation\n",
    "    \n",
    "    kernel = Anzahl der Outputknoten\n",
    "    \n",
    "    activation = Aktivierungsfunktion \n",
    "    \n",
    "    bias = Anpassbare Zahl (nicht wichtig für unseren Algorithmus)\n",
    "\n",
    "    Die Anzahl der Output Knoten können kleiner oder größer als die Anzahl der Input Knoten sein. \n",
    "    \n",
    "    \n",
    "3. __Dropout__: Ist eine Funktion die das Overfitting verhindert, indem es manche Knoten zufällig auf den Wert 0 setzt, während der Zeit, in dem das Model trainiert wird. Die Rate, wie häufig ein Knoten auf 0 gesetzt wird, kann angepasst werden mit einer Dezimalzahl zwischen 0 und 1. \n",
    "\n",
    "\n",
    "4. __Conv1D:__ Erstellt ein *Convolutional Network*, welches einen 3D Tensor als Input erwartet und einen 3D Tensor ausgibt. \n",
    "\n",
    "### 4.3 Aufgabe: Erstelle ein Model, welches die folgenden Layers sequenziell zusammenfügt. \n",
    "--------------------------\n",
    "__1.__ Flatten: Die input_shape=(width,height) des Bildes (28x28).\n",
    "\n",
    "__2.__ Dense: Es sollen 128 Output Knoten entstehen und die Aktivierungsfunktion *'relu'* genutzt werden.\n",
    "\n",
    "__3.__ Dense: Es sollen 10 Ouput Knoten entstehen, welche die Zahlen von 0 bis 9 repräsentieren. Aktivierungsfunktion ist *'softmax'* "
   ]
  },
  {
   "cell_type": "code",
   "execution_count": 4,
   "metadata": {},
   "outputs": [],
   "source": [
    "# Das erste Model wird erstellt und es werden 3 Layers definiert, die in Reihenfolge arbeiten\n",
    "model1 = keras.Sequential([\n",
    "    keras.layers.Flatten(input_shape = (28,28)),\n",
    "    keras.layers.Dense(128, activation='relu'),\n",
    "    keras.layers.Dense(10, activation='softmax')\n",
    "])\n",
    "\n",
    "# Das zweite Model ist komplexer und wird auch in folgender Sequenz arbeiten\n",
    "model2 = keras.Sequential([\n",
    "    keras.layers.Conv1D(64, kernel_size=(3), input_shape=(28,28), activation='relu'),\n",
    "    keras.layers.Conv1D(128, (3), activation='relu'),\n",
    "    keras.layers.Dropout(0.25),\n",
    "    keras.layers.Flatten(),\n",
    "    keras.layers.Dense(128, activation='relu'),\n",
    "    keras.layers.Dropout(0.25),\n",
    "    keras.layers.Dense(10, activation='softmax')\n",
    "])"
   ]
  },
  {
   "cell_type": "markdown",
   "metadata": {},
   "source": [
    "## 5. Kompilieren der Modelle \n",
    "\n",
    "### 5.1 Aufgabe: Kompiliere das Model \n",
    "\n",
    "Um das Model zu kompilieren, werden verschiedene Parameter mitgegeben werden. Diese sind *optimizer='adam'*, *loss='sparse_categorical_crossentropy'* und *metrics=['accuracy']*.\n",
    "\n",
    "--------------------------------------------------------------------------------"
   ]
  },
  {
   "cell_type": "code",
   "execution_count": 5,
   "metadata": {},
   "outputs": [],
   "source": [
    "# Es werden beiden Model kompiliert bzw. zusammengebaut.\n",
    "# Die Layer werden miteinander verknüpft und abgespeichert\n",
    "model1.compile(optimizer='adam',loss='sparse_categorical_crossentropy', metrics=['accuracy'])\n",
    "model2.compile(optimizer='adam',loss='sparse_categorical_crossentropy', metrics=['accuracy'])"
   ]
  },
  {
   "cell_type": "markdown",
   "metadata": {},
   "source": [
    "## 6. Das Model wird trainiert \n",
    "\n",
    "### 6.1 Aufgabe: Trainiere das Model und experimentiere mit der Anzahl der Epochen \n",
    "---------------------------------------\n",
    "### 6.2 Aufgabe: Was sind deine Erkenntnisse? Versuche eine Erklärung für diese zu finden. \n",
    "----------------------------------------\n"
   ]
  },
  {
   "cell_type": "code",
   "execution_count": 6,
   "metadata": {},
   "outputs": [
    {
     "name": "stdout",
     "output_type": "stream",
     "text": [
      "Epoch 1/5\n",
      "60000/60000 [==============================] - 4s 73us/sample - loss: 2.3658 - accuracy: 0.8470\n",
      "Epoch 2/5\n",
      "60000/60000 [==============================] - 4s 69us/sample - loss: 0.3638 - accuracy: 0.9093\n",
      "Epoch 3/5\n",
      "60000/60000 [==============================] - 4s 70us/sample - loss: 0.2779 - accuracy: 0.9279\n",
      "Epoch 4/5\n",
      "60000/60000 [==============================] - 4s 70us/sample - loss: 0.2490 - accuracy: 0.9353\n",
      "Epoch 5/5\n",
      "60000/60000 [==============================] - 4s 70us/sample - loss: 0.2266 - accuracy: 0.9415\n",
      "Epoch 1/5\n",
      "60000/60000 [==============================] - 21s 353us/sample - loss: 0.6925 - accuracy: 0.8540\n",
      "Epoch 2/5\n",
      "60000/60000 [==============================] - 21s 352us/sample - loss: 0.2087 - accuracy: 0.9431\n",
      "Epoch 3/5\n",
      "60000/60000 [==============================] - 21s 356us/sample - loss: 0.1644 - accuracy: 0.9546\n",
      "Epoch 4/5\n",
      "60000/60000 [==============================] - 21s 358us/sample - loss: 0.1497 - accuracy: 0.9604\n",
      "Epoch 5/5\n",
      "60000/60000 [==============================] - 21s 353us/sample - loss: 0.1302 - accuracy: 0.9653\n"
     ]
    },
    {
     "data": {
      "text/plain": [
       "<tensorflow.python.keras.callbacks.History at 0x7f9f846539b0>"
      ]
     },
     "execution_count": 6,
     "metadata": {},
     "output_type": "execute_result"
    }
   ],
   "source": [
    "# Die beiden Model bekommen nun die Trainingsdaten und\n",
    "# wir geben die Anzahl der Epochen an, die trainiert werden sollen\n",
    "model1.fit(train_images, train_labels, epochs=5)\n",
    "model2.fit(train_images, train_labels, epochs=5)"
   ]
  },
  {
   "cell_type": "markdown",
   "metadata": {},
   "source": [
    "## 7. Evaluierung der Modelle\n",
    "\n",
    "### Aufgabe 7.1: Evaluiere dein Model mit den Testbildern/-labels\n",
    "--------------------"
   ]
  },
  {
   "cell_type": "code",
   "execution_count": 9,
   "metadata": {},
   "outputs": [
    {
     "name": "stdout",
     "output_type": "stream",
     "text": [
      "10000/10000 [==============================] - 0s 36us/sample - loss: 0.2291 - accuracy: 0.9482\n",
      "\n",
      " Genauigkeit Model 1:  94.82  % \n",
      "\n",
      "10000/10000 [==============================] - 1s 115us/sample - loss: 44.5839 - accuracy: 0.0703\n",
      "\n",
      " Genauigkeit Model 2:  7.03  %\n"
     ]
    }
   ],
   "source": [
    "# Beide Modelle werden getestet mit den separierten Testdaten und den dazugehörigen Labels\n",
    "# Die Genauigkeit wird in Prozent angegeben\n",
    "test_loss, test_acc = model1.evaluate(test_images, test_labels)\n",
    "print(\"\\n\",'Genauigkeit Model 1: ', round(test_acc*100, 2), \" %\", '\\n')\n",
    "\n",
    "test_loss, test_acc = model2.evaluate(test_images, test_labels)\n",
    "print('\\n' ,'Genauigkeit Model 2: ', round(test_acc*100, 2), \" %\")\n"
   ]
  },
  {
   "cell_type": "markdown",
   "metadata": {},
   "source": [
    "## 8. Generierung der Vorhersagen \n",
    "\n",
    "### 8.1 Aufgabe: Erstelle die Vorhersagen für die Testbilder und speicher sie in der Variable *prediction* ab\n",
    "---------------------------"
   ]
  },
  {
   "cell_type": "code",
   "execution_count": 10,
   "metadata": {},
   "outputs": [],
   "source": [
    "# Generiert die Vorhersagen für die Testbilder\n",
    "predictionModel1 = model1.predict(test_images)\n",
    "predictionModel2 = model2.predict(test_images)"
   ]
  },
  {
   "cell_type": "markdown",
   "metadata": {},
   "source": [
    "## 9. Auswertung der Vorhersagen\n",
    "\n",
    "### 9.1 Aufgabe: Guck dir die erste Vorhersage an. Was fällt dir auf ?\n",
    "-----------------------\n",
    "Es wird ein Array ausgegeben, welches 10 Werte enthält. Die Werte sind nicht gut lesbar. \n",
    "\n",
    "### 9.2 Aufgabe: Benutzt die Numpy Funktion np.argmax(*vorhersage*), um den höchsten Wert zu lokalisieren. \n",
    "--------------------"
   ]
  },
  {
   "cell_type": "code",
   "execution_count": 11,
   "metadata": {},
   "outputs": [
    {
     "name": "stdout",
     "output_type": "stream",
     "text": [
      "Vorhersage für Model 1:  [0.0000000e+00 4.1136433e-14 3.2748429e-11 2.4218672e-11 4.2935608e-35\n",
      " 9.5992080e-30 0.0000000e+00 1.0000000e+00 2.5686776e-35 1.2540236e-21]\n",
      "Vorhersage für Model 2:  [1.00629069e-02 2.02881210e-06 4.30607390e-11 1.66790998e-10\n",
      " 9.10985622e-34 4.71256763e-37 1.15327621e-20 1.04659845e-13\n",
      " 1.13545957e-23 9.89935100e-01]\n"
     ]
    }
   ],
   "source": [
    "# Eine Vorhersage besteht aus einem Array, welches für jede Zahl von 0-9 eine Wahrscheinlichkeit angibt. \n",
    "# Die Wahrscheinlichkeit gibt an, wie sehr sich unser Model sicher ist, dass es genau diese Zahl \"sieht\"\n",
    "print(\"Vorhersage für Model 1: \" , predictionModel1[0])\n",
    "print(\"Vorhersage für Model 2: \" , predictionModel2[0])"
   ]
  },
  {
   "cell_type": "code",
   "execution_count": 12,
   "metadata": {},
   "outputs": [
    {
     "name": "stdout",
     "output_type": "stream",
     "text": [
      "Vorhersage für Model 1:  7\n",
      "Vorhersage für Model 2:  9\n"
     ]
    }
   ],
   "source": [
    "# Mithilfe der Numpy-Funktion argmax finden wir in dem Array schnell den höchsten Wert\n",
    "print(\"Vorhersage für Model 1: \" , np.argmax(predictionModel1[0]))\n",
    "print(\"Vorhersage für Model 2: \" , np.argmax(predictionModel2[0]))"
   ]
  },
  {
   "cell_type": "markdown",
   "metadata": {},
   "source": [
    "## 10. Vergleich: Vorhersage vs. Realität\n",
    "\n",
    "### Aufgabe 10.1: Lass dir das Bild anzeigen (analog Aufgabe 3 ) und überprüfe, ob die Vorhersage deines Models mit dem Label übereinstimmt. \n",
    "---------------------"
   ]
  },
  {
   "cell_type": "code",
   "execution_count": 15,
   "metadata": {},
   "outputs": [
    {
     "name": "stdout",
     "output_type": "stream",
     "text": [
      "Die Wahrheit ist:  7\n",
      "Die Vorhersage ist richtig von Model 1\n"
     ]
    },
    {
     "data": {
      "image/png": "[encoded data removed]",
      "text/plain": [
       "<Figure size 432x288 with 1 Axes>"
      ]
     },
     "metadata": {
      "needs_background": "light"
     },
     "output_type": "display_data"
    }
   ],
   "source": [
    "# Die Wahrheit, was sich hinter dem Bild für eine Zahl verbirgt, gibt das Testlabel als Information\n",
    "print(\"Die Wahrheit ist: \" ,test_labels[0])\n",
    "# Wenn die Vorhersage und das Label übereinstimmen, \n",
    "# dann erscheint auf dem Bildschirm die Nummer und \n",
    "# eine Erfolgsmeldung \n",
    "if np.argmax(predictionModel1[0]) == test_labels[0] :\n",
    "    print(\"Die Vorhersage ist richtig von Model 1\")\n",
    "    plt.figure()\n",
    "    plt.imshow(test_images[0])\n",
    "    plt.show()\n",
    "\n"
   ]
  },
  {
   "cell_type": "markdown",
   "metadata": {},
   "source": [
    "## 11. Test mit eigener Handschrift\n",
    "\n",
    "__Hier können eigene Bilder analysiert werden.__\n",
    "\n",
    "__Die Bilder können in Paint / anderer Freesoftware erstellt werden.__\n",
    "\n",
    "__Das Format muss 28x28 Pixel sein!__\n",
    "\n",
    "__Vorraussetzung ist eine weiße Zahl auf schwarzem Hintergrund!__\n",
    "\n",
    "---------------\n",
    "\n",
    "### Aufgabe 11.1: Erstelle ein Bild mit 28x28 Pixel. \n",
    "------\n",
    "### Aufgabe 11.2: Der Hintergrund muss komplett schwarz sein!\n",
    "------\n",
    "### Aufgabe 11.3: Male eine Zahl zwischen 0 und 9 mit weißer Farbe.\n",
    "------\n",
    "### Aufgabe 11.4: Speichere das Bild (PNG- Format) in dem Ordner ab, in dem sich dein Code befindet.\n",
    "------\n",
    "### Aufgabe 11.4: Nutzt den folgenden Code, um dein Bild von deinem Model überprüfen zu lassen. \n",
    "------\n",
    "### Aufgabe 11.5: Stimmt deine Zahl mit der Vorhersage des Algorithmus überein ? "
   ]
  },
  {
   "cell_type": "code",
   "execution_count": 44,
   "metadata": {},
   "outputs": [
    {
     "data": {
      "image/png": "[encoded data removed]",
      "text/plain": [
       "<Figure size 432x288 with 1 Axes>"
      ]
     },
     "metadata": {
      "needs_background": "light"
     },
     "output_type": "display_data"
    },
    {
     "name": "stdout",
     "output_type": "stream",
     "text": [
      "Ich sehe die Nummer:  9 \n",
      " Ich sehe die Nummer:  9\n"
     ]
    }
   ],
   "source": [
    "# Diese beiden Packages werden für das importieren der selbsterstellten Bilder gebraucht\n",
    "from PIL import Image\n",
    "import os\n",
    "\n",
    "# Dateipfad + Dateiname => importieren das Bild in Python\n",
    "folder_path = \"./\"\n",
    "filename = \"test8.png\"\n",
    "image_location = os.path.join(folder_path, filename)\n",
    "\n",
    "# Bild wird geöffnet und convertiert \n",
    "bild = Image.open(image_location).convert(\"L\")\n",
    "\n",
    "# Bild wird angezeigt \n",
    "plt.figure()\n",
    "plt.imshow(bild)\n",
    "plt.show()\n",
    "\n",
    "# Das Bild wird in ein Array umgewandelt, passend für den Algorithmus\n",
    "bild = np.array(np.resize(bild, (1,28, 28)))\n",
    "bild = 255-bild\n",
    "# Eine Vorhersage wird für das Bild gemacht und angezeigt\n",
    "vorhersage = model1.predict(bild)\n",
    "vorhersage1 = model2.predict(bild)\n",
    "print(\"Ich sehe die Nummer: \" , np.argmax(vorhersage), '\\n', \"Ich sehe die Nummer: \" , np.argmax(vorhersage1))"
   ]
  },
  {
   "cell_type": "code",
   "execution_count": null,
   "metadata": {},
   "outputs": [],
   "source": []
  },
  {
   "cell_type": "code",
   "execution_count": null,
   "metadata": {},
   "outputs": [],
   "source": []
  }
 ],
 "metadata": {
  "kernelspec": {
   "display_name": "Python 3",
   "language": "python",
   "name": "python3"
  },
  "language_info": {
   "codemirror_mode": {
    "name": "ipython",
    "version": 3
   },
   "file_extension": ".py",
   "mimetype": "text/x-python",
   "name": "python",
   "nbconvert_exporter": "python",
   "pygments_lexer": "ipython3",
   "version": "3.6.7"
  }
 },
 "nbformat": 4,
 "nbformat_minor": 2
}
